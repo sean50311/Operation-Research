{
 "cells": [
  {
   "cell_type": "code",
   "execution_count": 1,
   "metadata": {},
   "outputs": [
    {
     "name": "stdout",
     "output_type": "stream",
     "text": [
      "Requirement already satisfied: gurobipy in c:\\users\\seanh\\anaconda3\\lib\\site-packages (11.0.1)\n",
      "Note: you may need to restart the kernel to use updated packages.\n"
     ]
    }
   ],
   "source": [
    "pip install gurobipy"
   ]
  },
  {
   "cell_type": "code",
   "execution_count": 2,
   "metadata": {},
   "outputs": [],
   "source": [
    "from gurobipy import *"
   ]
  },
  {
   "cell_type": "code",
   "execution_count": 6,
   "metadata": {},
   "outputs": [],
   "source": [
    "import pandas as pd \n",
    "\n",
    "basic_info = pd.read_excel('OR112-2_hw02_data.xlsx', 'Town1')\n",
    "towns = range(len(basic_info))\n",
    "basic_info = pd.read_excel('OR112-2_hw02_data.xlsx', 'Location1')\n",
    "locations = range(len(basic_info))\n",
    "basic_info = pd.read_excel('OR112-2_hw02_data.xlsx', 'p1')\n",
    "p = basic_info['p']\n",
    "\n",
    "town_info = pd.read_excel('OR112-2_hw02_data.xlsx', 'P1-2')\n",
    "people = town_info['h']\n",
    "\n",
    "distance_info = pd.read_excel('OR112-2_hw02_data.xlsx', 'P1-3', index_col = 0)\n",
    "distance = []\n",
    "for i in distance_info.index:\n",
    "    distance.append(list(distance_info.loc[i]))"
   ]
  },
  {
   "cell_type": "code",
   "execution_count": 7,
   "metadata": {},
   "outputs": [],
   "source": [
    "eg1 = Model(\"eg1\")\n",
    "\n",
    "x = []\n",
    "for j in locations:\n",
    "    x.append(eg1.addVar(lb = 0, vtype = GRB.BINARY, name = \"x\" + str(i+1)))\n",
    "\n",
    "y = []\n",
    "for i in towns:\n",
    "    y.append(eg1.addVar(lb = 0, vtype = GRB.CONTINUOUS, name = \"y\" + str(i+1)))"
   ]
  },
  {
   "cell_type": "code",
   "execution_count": 8,
   "metadata": {},
   "outputs": [
    {
     "name": "stdout",
     "output_type": "stream",
     "text": [
      "10\n",
      "<gurobi.Var *Awaiting Model Update*>\n"
     ]
    }
   ],
   "source": [
    "print(len(towns))\n",
    "print(y[9])"
   ]
  },
  {
   "cell_type": "code",
   "execution_count": 9,
   "metadata": {},
   "outputs": [
    {
     "name": "stdout",
     "output_type": "stream",
     "text": [
      "Gurobi Optimizer version 11.0.1 build v11.0.1rc0 (win64 - Windows 11.0 (22631.2))\n",
      "\n",
      "CPU model: 12th Gen Intel(R) Core(TM) i7-1260P, instruction set [SSE2|AVX|AVX2]\n",
      "Thread count: 12 physical cores, 16 logical processors, using up to 16 threads\n",
      "\n",
      "Optimize a model with 55 rows, 15 columns and 115 nonzeros\n",
      "Model fingerprint: 0x6123215a\n",
      "Variable types: 10 continuous, 5 integer (5 binary)\n",
      "Coefficient statistics:\n",
      "  Matrix range     [1e+00, 2e+02]\n",
      "  Objective range  [2e+01, 9e+01]\n",
      "  Bounds range     [1e+00, 1e+00]\n",
      "  RHS range        [3e+00, 2e+02]\n",
      "Found heuristic solution: objective 17423.000000\n",
      "Presolve removed 14 rows and 0 columns\n",
      "Presolve time: 0.00s\n",
      "Presolved: 41 rows, 15 columns, 115 nonzeros\n",
      "Variable types: 0 continuous, 15 integer (5 binary)\n",
      "Found heuristic solution: objective 17674.000000\n",
      "\n",
      "Root relaxation: objective 4.729200e+04, 22 iterations, 0.00 seconds (0.00 work units)\n",
      "\n",
      "    Nodes    |    Current Node    |     Objective Bounds      |     Work\n",
      " Expl Unexpl |  Obj  Depth IntInf | Incumbent    BestBd   Gap | It/Node Time\n",
      "\n",
      "     0     0 47292.0000    0    6 17674.0000 47292.0000   168%     -    0s\n",
      "H    0     0                    39027.000000 47292.0000  21.2%     -    0s\n",
      "     0     0 47292.0000    0    6 39027.0000 47292.0000  21.2%     -    0s\n",
      "\n",
      "Explored 1 nodes (22 simplex iterations) in 0.02 seconds (0.00 work units)\n",
      "Thread count was 16 (of 16 available processors)\n",
      "\n",
      "Solution count 3: 39027 17674 17423 \n",
      "\n",
      "Optimal solution found (tolerance 1.00e-04)\n",
      "Best objective 3.902700000000e+04, best bound 3.902700000000e+04, gap 0.0000%\n"
     ]
    }
   ],
   "source": [
    "eg1.setObjective(\n",
    "    quicksum(people[i] * y[i] for i in towns), GRB.MAXIMIZE)\n",
    "\n",
    "M = []\n",
    "for i in towns:\n",
    "    M.append(max(distance[i][j] for j in locations))\n",
    "\n",
    "for i in towns:\n",
    "    for j in locations:\n",
    "        eg1.addConstr(y[i] <= distance[i][j] * x[j] + M[i] * (1 - x[j]))\n",
    "\n",
    "eg1.addConstrs((quicksum(x[j] for j in locations) >= p \n",
    "    for location in locations), \"Minimize amount of landfills\")\n",
    "\n",
    "eg1.optimize()"
   ]
  },
  {
   "cell_type": "code",
   "execution_count": 10,
   "metadata": {},
   "outputs": [
    {
     "name": "stdout",
     "output_type": "stream",
     "text": [
      "1.0\n",
      "1.0\n",
      "1.0\n",
      "0.0\n",
      "0.0\n",
      "\n",
      "76.0 \t76.0 \t76.0 \t76.0 \t76.0 \t\n",
      "108.0 \t108.0 \t108.0 \t108.0 \t108.0 \t\n",
      "30.0 \t30.0 \t30.0 \t30.0 \t30.0 \t\n",
      "107.0 \t107.0 \t107.0 \t107.0 \t107.0 \t\n",
      "66.0 \t66.0 \t66.0 \t66.0 \t66.0 \t\n",
      "121.0 \t121.0 \t121.0 \t121.0 \t121.0 \t\n",
      "29.0 \t29.0 \t29.0 \t29.0 \t29.0 \t\n",
      "95.0 \t95.0 \t95.0 \t95.0 \t95.0 \t\n",
      "56.0 \t56.0 \t56.0 \t56.0 \t56.0 \t\n",
      "30.0 \t30.0 \t30.0 \t30.0 \t30.0 \t\n",
      "\n",
      "z* = 74.62141491395793\n"
     ]
    }
   ],
   "source": [
    "for j in locations:\n",
    "    print(x[j].x)\n",
    "print(\"\")\n",
    "\n",
    "sumPeople = 0\n",
    "for i in towns:\n",
    "    sumPeople += people[i]\n",
    "\n",
    "for i in towns:\n",
    "    for j in locations:\n",
    "        print(y[i].x, \"\\t\", end=\"\")\n",
    "    print(\"\")\n",
    "print(\"\")\n",
    "\n",
    "print(\"z* =\", eg1.objVal / sumPeople)"
   ]
  }
 ],
 "metadata": {
  "kernelspec": {
   "display_name": "base",
   "language": "python",
   "name": "python3"
  },
  "language_info": {
   "codemirror_mode": {
    "name": "ipython",
    "version": 3
   },
   "file_extension": ".py",
   "mimetype": "text/x-python",
   "name": "python",
   "nbconvert_exporter": "python",
   "pygments_lexer": "ipython3",
   "version": "3.9.13"
  }
 },
 "nbformat": 4,
 "nbformat_minor": 2
}
