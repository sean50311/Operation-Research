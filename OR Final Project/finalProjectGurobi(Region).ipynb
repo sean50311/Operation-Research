{
 "cells": [
  {
   "cell_type": "code",
   "execution_count": 1,
   "metadata": {},
   "outputs": [],
   "source": [
    "import pandas as pd\n",
    "from gurobipy import *\n",
    "xlsx = pd.ExcelFile('OR_final資料.xlsx')\n",
    "\n",
    "# print(xlsx.sheet_names)\n",
    "\n",
    "truck_sheet = pd.read_excel(xlsx, '消防車可服務火災種類')\n",
    "# print(truck_sheet)\n",
    "\n",
    "population_sheet = pd.read_excel(xlsx, '各區人口數')\n",
    "# print(population_sheet)\n",
    "\n",
    "fire_sheet = pd.read_excel(xlsx, '107-112火災各種類件數')\n",
    "# print(fire_sheet)\n",
    "\n",
    "distance_sheet = pd.read_excel(xlsx, '消防站和火災距離是否小於3公里')\n",
    "# print(distance_sheet)\n"
   ]
  },
  {
   "cell_type": "markdown",
   "metadata": {},
   "source": [
    "泡沫消防車->0\n",
    "乾粉消防車->1\n",
    "水箱消防車->2"
   ]
  },
  {
   "cell_type": "code",
   "execution_count": 2,
   "metadata": {},
   "outputs": [
    {
     "name": "stdout",
     "output_type": "stream",
     "text": [
      "[[1, 1, 0], [0, 1, 1], [1, 0, 0]]\n",
      "[900, 1200, 700]\n",
      "3\n"
     ]
    }
   ],
   "source": [
    "truck_type = truck_sheet.values.tolist()\n",
    "cost = []\n",
    "truck_support = []\n",
    "for row in truck_type:\n",
    "    # print(row)\n",
    "    truck_support.append([row[1],row[2],row[3]])\n",
    "    cost.append(row[4])\n",
    "print(truck_support)\n",
    "print(cost)\n",
    "\n",
    "truck_type_num = len(truck_support)\n",
    "print(truck_type_num)"
   ]
  },
  {
   "cell_type": "markdown",
   "metadata": {},
   "source": [
    "松山區->1\n",
    "信義區->2\n",
    "大安區->3\n",
    "中山區->4\n",
    "中正區->5\n",
    "大同區->6\n",
    "萬華區->7\n",
    "文山區->8\n",
    "南港區->9\n",
    "內湖區->10\n",
    "士林區->11\n",
    "北投區->12\n"
   ]
  },
  {
   "cell_type": "code",
   "execution_count": 3,
   "metadata": {},
   "outputs": [
    {
     "name": "stdout",
     "output_type": "stream",
     "text": [
      "[193653, 206356, 291949, 216125, 150208, 119869, 172944, 260023, 113682, 275843, 266410, 242050]\n",
      "12\n"
     ]
    }
   ],
   "source": [
    "population_info = population_sheet.values.tolist()\n",
    "population = []\n",
    "for row in population_info:\n",
    "    population.append(row[1])\n",
    "print(population)\n",
    "\n",
    "district_num = len(population)\n",
    "print(district_num)"
   ]
  },
  {
   "cell_type": "markdown",
   "metadata": {},
   "source": [
    "普通火災->0\t油類火災->1\t電氣火災->2\n"
   ]
  },
  {
   "cell_type": "code",
   "execution_count": 4,
   "metadata": {},
   "outputs": [
    {
     "name": "stdout",
     "output_type": "stream",
     "text": [
      "[[176.0, 385.0, 247.0], [227.0, 414.0, 231.0], [237.0, 442.0, 366.0], [358.0, 472.0, 414.0], [156.0, 254.0, 269.0], [154.0, 196.0, 176.0], [281.0, 480.0, 307.0], [279.0, 520.0, 230.0], [119.0, 193.0, 120.0], [266.0, 475.0, 262.0], [369.0, 374.0, 344.0], [352.0, 337.0, 227.0]]\n",
      "3\n"
     ]
    }
   ],
   "source": [
    "fire_info = fire_sheet.values.tolist()\n",
    "fire_type = []\n",
    "for row in fire_info:\n",
    "    fire_type.append([row[1], row[2], row[3]])\n",
    "print(fire_type)\n",
    "\n",
    "fire_type_num = len(fire_type[0])\n",
    "print(fire_type_num)"
   ]
  },
  {
   "cell_type": "code",
   "execution_count": 5,
   "metadata": {},
   "outputs": [
    {
     "name": "stdout",
     "output_type": "stream",
     "text": [
      "[[0 0 1 1 1 1 1 0 0 0 0 0]\n",
      " [1 0 1 1 1 1 1 0 0 0 0 0]\n",
      " [0 0 0 0 1 0 1 0 0 0 0 0]\n",
      " [0 0 1 0 0 0 0 0 0 0 0 0]\n",
      " [0 0 0 1 1 1 1 0 0 0 0 0]\n",
      " [0 0 0 0 1 0 1 0 0 0 0 0]\n",
      " [0 0 0 0 1 0 1 0 0 0 0 0]\n",
      " [0 0 0 0 0 0 0 1 0 0 0 0]\n",
      " [0 0 0 0 0 0 0 1 0 0 0 0]\n",
      " [0 0 0 0 0 0 0 1 0 0 0 0]\n",
      " [0 0 0 0 0 0 0 1 0 0 0 0]\n",
      " [0 0 1 0 1 0 1 0 0 0 0 0]\n",
      " [1 1 1 0 0 0 0 0 0 0 0 0]\n",
      " [1 1 1 0 1 0 0 0 0 0 0 0]\n",
      " [0 0 0 0 0 0 0 0 1 0 0 0]\n",
      " [0 0 0 0 0 0 0 0 1 0 0 0]\n",
      " [0 1 0 0 0 0 0 0 1 0 0 0]\n",
      " [1 1 1 0 0 0 0 0 0 0 0 0]\n",
      " [1 1 0 0 0 0 0 0 0 0 0 0]\n",
      " [1 1 1 0 0 0 0 0 0 0 0 0]\n",
      " [0 0 0 0 0 0 0 0 0 1 0 0]\n",
      " [1 0 1 1 1 1 0 0 0 0 0 0]\n",
      " [1 0 0 1 0 1 0 0 0 0 0 0]\n",
      " [1 0 0 1 0 0 0 0 0 0 0 0]\n",
      " [1 0 0 1 0 1 0 0 0 0 1 0]\n",
      " [1 1 1 0 0 0 0 0 0 0 0 0]\n",
      " [1 1 1 1 0 0 0 0 0 0 0 0]\n",
      " [0 0 0 0 0 0 0 0 1 0 0 0]\n",
      " [0 0 0 0 0 0 0 0 0 1 0 0]\n",
      " [0 0 0 0 0 0 0 0 1 1 0 0]\n",
      " [0 0 0 0 0 0 0 0 1 1 0 0]\n",
      " [0 0 0 1 1 1 1 0 0 0 0 0]\n",
      " [0 0 0 1 1 1 1 0 0 0 0 0]\n",
      " [0 0 0 1 0 1 0 0 0 0 0 0]\n",
      " [0 0 0 0 0 0 0 0 0 0 0 0]\n",
      " [0 0 0 0 0 0 0 0 0 0 0 0]\n",
      " [0 0 0 0 0 0 0 0 0 0 0 0]\n",
      " [0 0 0 1 0 1 0 0 0 0 1 0]\n",
      " [0 0 0 0 0 0 0 0 0 0 1 0]\n",
      " [0 0 0 0 0 0 0 0 0 0 1 0]\n",
      " [0 0 0 0 0 1 0 0 0 0 1 0]\n",
      " [0 0 0 0 0 0 0 0 0 0 0 0]\n",
      " [0 0 0 0 0 0 0 0 0 0 0 1]\n",
      " [0 0 0 0 0 0 0 0 0 0 0 0]\n",
      " [0 0 0 0 0 0 0 0 0 0 1 1]\n",
      " [0 0 0 0 0 0 0 0 0 0 0 1]]\n",
      "46\n"
     ]
    }
   ],
   "source": [
    "import numpy as np\n",
    "distance_sheet = distance_sheet.drop(columns=['1/0'])\n",
    "covers = distance_sheet.values.tolist()\n",
    "covers = np.array(covers)\n",
    "print(covers)\n",
    "\n",
    "station_num = len(covers)\n",
    "print(station_num)"
   ]
  },
  {
   "cell_type": "markdown",
   "metadata": {},
   "source": [
    "Gurobi part:     i->district, j->station, k->fire truck type, r->fire type"
   ]
  },
  {
   "cell_type": "code",
   "execution_count": 6,
   "metadata": {},
   "outputs": [
    {
     "name": "stdout",
     "output_type": "stream",
     "text": [
      "Set parameter Username\n",
      "Academic license - for non-commercial use only - expires 2025-04-11\n"
     ]
    }
   ],
   "source": [
    "eg1 = Model(\"eg1\")\n",
    "\n",
    "t = []\n",
    "for j in range(station_num):\n",
    "    t.append([])\n",
    "    for k in range(truck_type_num):\n",
    "        t[j].append(eg1.addVar(lb = 0, vtype = GRB.INTEGER, name = \"t\" + str(j+1) + str(k+1)))\n",
    "\n",
    "eg1.update()"
   ]
  },
  {
   "cell_type": "code",
   "execution_count": 7,
   "metadata": {},
   "outputs": [
    {
     "name": "stdout",
     "output_type": "stream",
     "text": [
      "Gurobi Optimizer version 11.0.1 build v11.0.1rc0 (win64 - Windows 11.0 (22631.2))\n",
      "\n",
      "CPU model: 12th Gen Intel(R) Core(TM) i7-1260P, instruction set [SSE2|AVX|AVX2]\n",
      "Thread count: 12 physical cores, 16 logical processors, using up to 16 threads\n",
      "\n",
      "Optimize a model with 48 rows, 138 columns and 776 nonzeros\n",
      "Model fingerprint: 0x778f683a\n",
      "Variable types: 0 continuous, 138 integer (0 binary)\n",
      "Coefficient statistics:\n",
      "  Matrix range     [5e+01, 1e+05]\n",
      "  Objective range  [7e+02, 1e+03]\n",
      "  Bounds range     [0e+00, 0e+00]\n",
      "  RHS range        [1e+02, 3e+05]\n",
      "Found heuristic solution: objective 79300.000000\n",
      "Presolve removed 48 rows and 138 columns\n",
      "Presolve time: 0.00s\n",
      "Presolve: All rows and columns removed\n",
      "\n",
      "Explored 0 nodes (0 simplex iterations) in 0.02 seconds (0.00 work units)\n",
      "Thread count was 1 (of 16 available processors)\n",
      "\n",
      "Solution count 2: 61300 79300 \n",
      "\n",
      "Optimal solution found (tolerance 1.00e-04)\n",
      "Best objective 6.130000000000e+04, best bound 6.130000000000e+04, gap 0.0000%\n"
     ]
    }
   ],
   "source": [
    "eg1.setObjective(quicksum(cost[k] * quicksum(t[j][k] for j in range(station_num)) for k in range(truck_type_num)), GRB.MINIMIZE)\n",
    "\n",
    "P = 100000\n",
    "for i in range(district_num):\n",
    "    eg1.addConstr(P * quicksum(covers[j][i] * quicksum(t[j][k] for k in range(truck_type_num)) for j in range(station_num)) >= population[i])\n",
    "H = 50\n",
    "for i in range(district_num):\n",
    "    for r in range(fire_type_num):\n",
    "        eg1.addConstr(H * quicksum(covers[j][i] * quicksum(truck_support[k][r] * t[j][k] for k in range(truck_type_num)) for j in range(station_num)) >= fire_type[i][r])\n",
    "\n",
    "\n",
    "\n",
    "eg1.optimize()  "
   ]
  },
  {
   "cell_type": "code",
   "execution_count": 8,
   "metadata": {},
   "outputs": [
    {
     "name": "stdout",
     "output_type": "stream",
     "text": [
      "61300.0\n"
     ]
    }
   ],
   "source": [
    "if eg1.status == GRB.OPTIMAL:\n",
    "    total_trucks = 0\n",
    "    minCost = eg1.objVal\n",
    "    print(minCost)\n",
    "else:\n",
    "    print(\"No optimal solution found. Model status:\", eg1.status)"
   ]
  },
  {
   "cell_type": "code",
   "execution_count": 9,
   "metadata": {},
   "outputs": [
    {
     "name": "stdout",
     "output_type": "stream",
     "text": [
      "       Station  Truck 1  Truck 2  Truck 3\n",
      "0    Station 1     -0.0     -0.0     -0.0\n",
      "1    Station 2      3.0      7.0      3.0\n",
      "2    Station 3     -0.0     -0.0     -0.0\n",
      "3    Station 4     -0.0     -0.0     -0.0\n",
      "4    Station 5     -0.0     -0.0     -0.0\n",
      "5    Station 6     -0.0     -0.0     -0.0\n",
      "6    Station 7     -0.0     -0.0     -0.0\n",
      "7    Station 8      6.0     -0.0     -0.0\n",
      "8    Station 9     -0.0     -0.0     -0.0\n",
      "9   Station 10     -0.0     -0.0     -0.0\n",
      "10  Station 11     -0.0      5.0     -0.0\n",
      "11  Station 12     -0.0     -0.0     -0.0\n",
      "12  Station 13     -0.0     -0.0     -0.0\n",
      "13  Station 14     -0.0     -0.0     -0.0\n",
      "14  Station 15     -0.0     -0.0     -0.0\n",
      "15  Station 16     -0.0     -0.0     -0.0\n",
      "16  Station 17     -0.0     -0.0     -0.0\n",
      "17  Station 18     -0.0     -0.0     -0.0\n",
      "18  Station 19     -0.0     -0.0     -0.0\n",
      "19  Station 20     -0.0     -0.0     -0.0\n",
      "20  Station 21     -0.0     -0.0     -0.0\n",
      "21  Station 22     -0.0     -0.0     -0.0\n",
      "22  Station 23     -0.0     -0.0     -0.0\n",
      "23  Station 24     -0.0     -0.0     -0.0\n",
      "24  Station 25     -0.0     -0.0     -0.0\n",
      "25  Station 26     -0.0     -0.0     -0.0\n",
      "26  Station 27      4.0      5.0      1.0\n",
      "27  Station 28     -0.0     -0.0     -0.0\n",
      "28  Station 29     -0.0     -0.0     -0.0\n",
      "29  Station 30     -0.0     -0.0      2.0\n",
      "30  Station 31      4.0      6.0     -0.0\n",
      "31  Station 32     -0.0     -0.0     -0.0\n",
      "32  Station 33     -0.0     -0.0     -0.0\n",
      "33  Station 34     -0.0     -0.0     -0.0\n",
      "34  Station 35     -0.0     -0.0     -0.0\n",
      "35  Station 36     -0.0     -0.0     -0.0\n",
      "36  Station 37     -0.0     -0.0     -0.0\n",
      "37  Station 38     -0.0     -0.0     -0.0\n",
      "38  Station 39     -0.0     -0.0     -0.0\n",
      "39  Station 40     -0.0     -0.0     -0.0\n",
      "40  Station 41     -0.0     -0.0     -0.0\n",
      "41  Station 42     -0.0     -0.0     -0.0\n",
      "42  Station 43     -0.0     -0.0     -0.0\n",
      "43  Station 44     -0.0     -0.0     -0.0\n",
      "44  Station 45      1.0      7.0      7.0\n",
      "45  Station 46     -0.0     -0.0     -0.0\n",
      "Total Truck 61.0\n"
     ]
    }
   ],
   "source": [
    "# Prepare data for the DataFrame\n",
    "data = []\n",
    "total_trucks = 0\n",
    "columns = [\"Station\"] + [f\"Truck {k+1}\" for k in range(truck_type_num)]\n",
    "\n",
    "for j in range(station_num):\n",
    "    row = [f\"Station {j+1}\"]\n",
    "    for k in range(truck_type_num):\n",
    "        truck_count = t[j][k].X\n",
    "        row.append(truck_count)\n",
    "        total_trucks += truck_count\n",
    "    data.append(row)\n",
    "\n",
    "# Create a DataFrame\n",
    "df1 = pd.DataFrame(data, columns=columns)\n",
    "print(df1)\n",
    "\n",
    "print(\"Total Truck\", total_trucks)"
   ]
  },
  {
   "cell_type": "code",
   "execution_count": 10,
   "metadata": {},
   "outputs": [],
   "source": [
    "eg2 = Model(\"eg2\")\n",
    "\n",
    "t = []\n",
    "for j in range(station_num):\n",
    "    t.append([])\n",
    "    for k in range(truck_type_num):\n",
    "        t[j].append(eg2.addVar(lb = 0, vtype = GRB.INTEGER, name = \"t\" + str(j+1) + str(k+1)))\n",
    "\n",
    "w = []\n",
    "for j in range(station_num):\n",
    "    w.append(eg2.addVar(lb = 0, vtype = GRB.CONTINUOUS, name = \"w\" + str(j+1)))\n",
    "    \n",
    "e = eg2.addVar(lb = 0, vtype = GRB.CONTINUOUS, name = \"e\")\n",
    "\n",
    "eg2.update()"
   ]
  },
  {
   "cell_type": "code",
   "execution_count": 11,
   "metadata": {},
   "outputs": [
    {
     "name": "stdout",
     "output_type": "stream",
     "text": [
      "Gurobi Optimizer version 11.0.1 build v11.0.1rc0 (win64 - Windows 11.0 (22631.2))\n",
      "\n",
      "CPU model: 12th Gen Intel(R) Core(TM) i7-1260P, instruction set [SSE2|AVX|AVX2]\n",
      "Thread count: 12 physical cores, 16 logical processors, using up to 16 threads\n",
      "\n",
      "Optimize a model with 140 rows, 185 columns and 1144 nonzeros\n",
      "Model fingerprint: 0x3e633717\n",
      "Variable types: 47 continuous, 138 integer (0 binary)\n",
      "Coefficient statistics:\n",
      "  Matrix range     [1e+00, 1e+05]\n",
      "  Objective range  [1e+00, 1e+00]\n",
      "  Bounds range     [0e+00, 0e+00]\n",
      "  RHS range        [1e+02, 3e+05]\n",
      "Found heuristic solution: objective 12667.391304\n",
      "Presolve removed 14 rows and 61 columns\n",
      "Presolve time: 0.00s\n",
      "Presolved: 126 rows, 124 columns, 975 nonzeros\n",
      "Variable types: 1 continuous, 123 integer (0 binary)\n",
      "\n",
      "Root relaxation: objective 2.667391e+03, 80 iterations, 0.00 seconds (0.00 work units)\n",
      "\n",
      "    Nodes    |    Current Node    |     Objective Bounds      |     Work\n",
      " Expl Unexpl |  Obj  Depth IntInf | Incumbent    BestBd   Gap | It/Node Time\n",
      "\n",
      "     0     0 2667.39130    0    9 12667.3913 2667.39130  78.9%     -    0s\n",
      "H    0     0                    3467.3913043 2667.39130  23.1%     -    0s\n",
      "H    0     0                    3167.3913043 2667.39130  15.8%     -    0s\n",
      "H    0     0                    2867.3913043 2667.39130  6.97%     -    0s\n",
      "     0     0 2667.39130    0    3 2867.39130 2667.39130  6.97%     -    0s\n",
      "H    0     0                    2667.3913043 2667.39130  0.00%     -    0s\n",
      "\n",
      "Cutting planes:\n",
      "  Gomory: 4\n",
      "  MIR: 3\n",
      "  Zero half: 2\n",
      "\n",
      "Explored 1 nodes (106 simplex iterations) in 0.05 seconds (0.00 work units)\n",
      "Thread count was 16 (of 16 available processors)\n",
      "\n",
      "Solution count 5: 2667.39 2867.39 3167.39 ... 12667.4\n",
      "\n",
      "Optimal solution found (tolerance 1.00e-04)\n",
      "Best objective 2.667391304348e+03, best bound 2.667391304348e+03, gap 0.0000%\n"
     ]
    }
   ],
   "source": [
    "eg2.setObjective(e, GRB.MINIMIZE)\n",
    "\n",
    "for j in range(station_num):\n",
    "    eg2.addConstr(e >= quicksum(cost[k] * t[j][k] for k in range(truck_type_num)) - minCost / station_num)\n",
    "    eg2.addConstr(w[j] == quicksum(cost[k] * t[j][k] for k in range(truck_type_num)) - minCost / station_num)\n",
    "\n",
    "#for j in range(station_num):\n",
    "    #eg2.addConstr(quicksum(t[j][k] for k in range(truck_type_num)) <= 5)\n",
    "    \n",
    "for i in range(district_num):\n",
    "    eg2.addConstr(P * quicksum(covers[j][i] * quicksum(t[j][k] for k in range(truck_type_num)) for j in range(station_num)) >= population[i])\n",
    "\n",
    "for i in range(district_num):\n",
    "    for r in range(fire_type_num):\n",
    "        eg2.addConstr(H * quicksum(covers[j][i] * quicksum(truck_support[k][r] * t[j][k] for k in range(truck_type_num)) for j in range(station_num)) >= fire_type[i][r])\n",
    "\n",
    "\n",
    "\n",
    "eg2.optimize()  "
   ]
  },
  {
   "cell_type": "code",
   "execution_count": 12,
   "metadata": {},
   "outputs": [
    {
     "name": "stdout",
     "output_type": "stream",
     "text": [
      "Maximum gap: 2667.391304347826\n",
      "Budget per station: 1332.608695652174\n"
     ]
    }
   ],
   "source": [
    "if eg2.status == GRB.OPTIMAL:\n",
    "    max_gap = eg2.objVal\n",
    "    print(\"Maximum gap:\", max_gap)\n",
    "    print(\"Budget per station:\", minCost / station_num)\n",
    "else:\n",
    "    print(\"No optimal solution found. Model status:\", eg2.status)"
   ]
  },
  {
   "cell_type": "code",
   "execution_count": 13,
   "metadata": {},
   "outputs": [
    {
     "name": "stdout",
     "output_type": "stream",
     "text": [
      "       Station  Truck 1  Truck 2  Truck 3  Exceeding Expense\n",
      "0    Station 1      0.0      0.0      2.0          67.391304\n",
      "1    Station 2      0.0      0.0      2.0          67.391304\n",
      "2    Station 3      0.0      2.0      0.0        1067.391304\n",
      "3    Station 4      0.0      3.0      0.0        2267.391304\n",
      "4    Station 5      0.0      2.0      0.0        1067.391304\n",
      "5    Station 6      2.0      0.0      0.0         467.391304\n",
      "6    Station 7      0.0      2.0      0.0        1067.391304\n",
      "7    Station 8      4.0      0.0      0.0        2267.391304\n",
      "8    Station 9      2.0      0.0      0.0         467.391304\n",
      "9   Station 10      0.0      3.0      0.0        2267.391304\n",
      "10  Station 11      0.0      2.0      0.0        1067.391304\n",
      "11  Station 12      0.0      0.0      2.0          67.391304\n",
      "12  Station 13      0.0      0.0      2.0          67.391304\n",
      "13  Station 14      1.0      2.0      0.0        1967.391304\n",
      "14  Station 15      0.0      0.0      2.0          67.391304\n",
      "15  Station 16      2.0      0.0      0.0         467.391304\n",
      "16  Station 17      2.0      0.0      0.0         467.391304\n",
      "17  Station 18      0.0      0.0      2.0          67.391304\n",
      "18  Station 19      2.0      0.0      0.0         467.391304\n",
      "19  Station 20      0.0      0.0      2.0          67.391304\n",
      "20  Station 21      0.0      3.0      0.0        2267.391304\n",
      "21  Station 22      0.0      0.0      2.0          67.391304\n",
      "22  Station 23      0.0      0.0      2.0          67.391304\n",
      "23  Station 24      0.0      3.0      0.0        2267.391304\n",
      "24  Station 25      0.0      2.0      0.0        1067.391304\n",
      "25  Station 26      0.0      3.0      0.0        2267.391304\n",
      "26  Station 27      0.0      0.0      2.0          67.391304\n",
      "27  Station 28      0.0      3.0      0.0        2267.391304\n",
      "28  Station 29      0.0      3.0      0.0        2267.391304\n",
      "29  Station 30      4.0      0.0      0.0        2267.391304\n",
      "30  Station 31      0.0      0.0      2.0          67.391304\n",
      "31  Station 32      0.0      0.0      2.0          67.391304\n",
      "32  Station 33      0.0      2.0      0.0        1067.391304\n",
      "33  Station 34      2.0      0.0      0.0         467.391304\n",
      "34  Station 35      0.0      0.0      2.0          67.391304\n",
      "35  Station 36      0.0      0.0      2.0          67.391304\n",
      "36  Station 37      0.0      0.0      2.0          67.391304\n",
      "37  Station 38      0.0      0.0      2.0          67.391304\n",
      "38  Station 39      2.0      0.0      0.0         467.391304\n",
      "39  Station 40      0.0      3.0      0.0        2267.391304\n",
      "40  Station 41      2.0      0.0      0.0         467.391304\n",
      "41  Station 42      0.0      0.0      2.0          67.391304\n",
      "42  Station 43      0.0      1.0      4.0        2667.391304\n",
      "43  Station 44      0.0      0.0      2.0          67.391304\n",
      "44  Station 45      1.0      2.0      1.0        2667.391304\n",
      "45  Station 46      1.0      2.0      1.0        2667.391304\n",
      "Table saved to firetruck_dispatcher_reg.xlsx\n",
      "Maximum gap: 2667.391304347826\n",
      "Budget per station: 1332.608695652174\n",
      "Total Truck 112.0\n"
     ]
    }
   ],
   "source": [
    "# Prepare data for the DataFrame\n",
    "data = []\n",
    "total_trucks = 0\n",
    "columns = [\"Station\"] + [f\"Truck {k+1}\" for k in range(truck_type_num)] + [\"Exceeding Expense\"]\n",
    "\n",
    "for j in range(station_num):\n",
    "    row = [f\"Station {j+1}\"]\n",
    "    for k in range(truck_type_num):\n",
    "        truck_count = t[j][k].X\n",
    "        row.append(truck_count)\n",
    "        total_trucks += truck_count\n",
    "    row.append(w[j].X)\n",
    "    data.append(row)\n",
    "\n",
    "# Create a DataFrame\n",
    "df2 = pd.DataFrame(data, columns=columns)\n",
    "print(df2)\n",
    "# Write the DataFrame to an Excel file\n",
    "excel_file = \"firetruck_dispatcher_reg.xlsx\"\n",
    "df2.to_excel(excel_file, index=False)\n",
    "\n",
    "print(f\"Table saved to {excel_file}\")\n",
    "print(\"Maximum gap:\", max_gap)\n",
    "print(\"Budget per station:\", minCost / station_num)\n",
    "print(\"Total Truck\", total_trucks)\n"
   ]
  },
  {
   "cell_type": "code",
   "execution_count": null,
   "metadata": {},
   "outputs": [],
   "source": []
  },
  {
   "cell_type": "code",
   "execution_count": null,
   "metadata": {},
   "outputs": [],
   "source": []
  }
 ],
 "metadata": {
  "kernelspec": {
   "display_name": "Python 3 (ipykernel)",
   "language": "python",
   "name": "python3"
  },
  "language_info": {
   "codemirror_mode": {
    "name": "ipython",
    "version": 3
   },
   "file_extension": ".py",
   "mimetype": "text/x-python",
   "name": "python",
   "nbconvert_exporter": "python",
   "pygments_lexer": "ipython3",
   "version": "3.9.13"
  }
 },
 "nbformat": 4,
 "nbformat_minor": 2
}
