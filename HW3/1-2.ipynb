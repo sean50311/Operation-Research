{
 "cells": [
  {
   "cell_type": "code",
   "execution_count": 8,
   "metadata": {},
   "outputs": [
    {
     "name": "stdout",
     "output_type": "stream",
     "text": [
      "Requirement already satisfied: gurobipy in c:\\users\\seanh\\anaconda3\\lib\\site-packages (11.0.1)\n",
      "Note: you may need to restart the kernel to use updated packages.\n"
     ]
    }
   ],
   "source": [
    "pip install gurobipy"
   ]
  },
  {
   "cell_type": "code",
   "execution_count": 9,
   "metadata": {},
   "outputs": [],
   "source": [
    "from gurobipy import *"
   ]
  },
  {
   "cell_type": "code",
   "execution_count": 10,
   "metadata": {},
   "outputs": [],
   "source": [
    "eg1 = Model('eg1')\n",
    "\n",
    "x = []\n",
    "for i in range(3):\n",
    "    x.append(eg1.addVar(lb = 0, vtype = GRB.CONTINUOUS, name = \"x\" + str(i+1)))"
   ]
  },
  {
   "cell_type": "code",
   "execution_count": 22,
   "metadata": {},
   "outputs": [
    {
     "name": "stdout",
     "output_type": "stream",
     "text": [
      "Gurobi Optimizer version 11.0.1 build v11.0.1rc0 (win64 - Windows 11.0 (22631.2))\n",
      "\n",
      "CPU model: 12th Gen Intel(R) Core(TM) i7-1260P, instruction set [SSE2|AVX|AVX2]\n",
      "Thread count: 12 physical cores, 16 logical processors, using up to 16 threads\n",
      "\n",
      "Optimize a model with 30 rows, 3 columns and 54 nonzeros\n",
      "Coefficient statistics:\n",
      "  Matrix range     [1e+00, 4e+01]\n",
      "  Objective range  [1e+01, 2e+01]\n",
      "  Bounds range     [0e+00, 0e+00]\n",
      "  RHS range        [5e+01, 5e+03]\n",
      "LP warm-start: use basis\n",
      "Iteration    Objective       Primal Inf.    Dual Inf.      Time\n",
      "       0    2.2960000e+03   0.000000e+00   0.000000e+00      0s\n",
      "\n",
      "Solved in 0 iterations and 0.01 seconds (0.00 work units)\n",
      "Optimal objective  2.296000000e+03\n"
     ]
    }
   ],
   "source": [
    "eg1.setObjective(10 * x[0] + 12 * x[1] + 20 * x[2], GRB.MAXIMIZE)\n",
    "\n",
    "eg1.addConstr(2 * x[0] + 3 * x[1] + 4 * x[2] <= 500)\n",
    "eg1.addConstr(30 * x[0] + 20 * x[1] + 40 * x[2] <= 4800)\n",
    "eg1.addConstr(x[0] <= 100)\n",
    "eg1.addConstr(x[1] <= 80)\n",
    "eg1.addConstr(x[2] <= 50)\n",
    "\n",
    "eg1.optimize()"
   ]
  },
  {
   "cell_type": "code",
   "execution_count": 23,
   "metadata": {},
   "outputs": [
    {
     "name": "stdout",
     "output_type": "stream",
     "text": [
      "2296.0\n",
      "48.00000000000001\n",
      "68.0\n",
      "50.0\n"
     ]
    }
   ],
   "source": [
    "print(eg1.objVal)\n",
    "for i in range(3):\n",
    "    print(x[i].x)"
   ]
  }
 ],
 "metadata": {
  "kernelspec": {
   "display_name": "base",
   "language": "python",
   "name": "python3"
  },
  "language_info": {
   "codemirror_mode": {
    "name": "ipython",
    "version": 3
   },
   "file_extension": ".py",
   "mimetype": "text/x-python",
   "name": "python",
   "nbconvert_exporter": "python",
   "pygments_lexer": "ipython3",
   "version": "3.9.13"
  }
 },
 "nbformat": 4,
 "nbformat_minor": 2
}
